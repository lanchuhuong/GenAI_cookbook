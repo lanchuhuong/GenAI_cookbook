{
 "cells": [
  {
   "cell_type": "code",
   "execution_count": 1,
   "metadata": {},
   "outputs": [],
   "source": [
    "import os\n",
    "from datetime import datetime\n",
    "from urllib.parse import unquote, urlparse\n",
    "import pandas as pd\n",
    "\n",
    "import requests\n",
    "\n",
    "current_year = datetime.now().year\n",
    "\n",
    "from functions import *"
   ]
  },
  {
   "cell_type": "code",
   "execution_count": 2,
   "metadata": {},
   "outputs": [],
   "source": [
    "with open(\"irrelevant_domain.txt\", \"r\") as file:\n",
    "    domains_from_file = [line.strip() for line in file.readlines()]"
   ]
  },
  {
   "cell_type": "code",
   "execution_count": 3,
   "metadata": {},
   "outputs": [],
   "source": [
    "# Load company list\n",
    "company_df = pd.read_excel(\"rawdata/240209_ISA_ClientList_TM_V01.xlsx\")\n",
    "company_list = company_df[\"Company Name\"].to_list()\n",
    "\n",
    "\n",
    "search_companies = company_list[0:100]\n",
    "\n",
    "# Define variables\n",
    "search_year = \"2022\"\n",
    "api_key = os.getenv(\"google_search_apikey\")\n",
    "cse_id = os.getenv(\"google_search_cseid\")\n",
    "\n",
    "search_and_save_results(\n",
    "    search_companies = search_companies,\n",
    "    search_year = search_year,\n",
    "    api_key = api_key,\n",
    "    cse_id = cse_id,\n",
    "    search_query = \"sustainability report pdf\",\n",
    "    num_results = 5,\n",
    "    data_directory = \"data/WS_ISA\",\n",
    "    save_to = \"searchresult/isa_report_url.csv\",\n",
    "    load_from = \"searchresult/isa_report_url.csv\")\n",
    "\n",
    "# clean up irrelevant domains\n",
    "df_isa = pd.read_csv(\"searchresult/isa_report_url.csv\", index_col=0)\n",
    "df_isa[\"company_url\"] = df_isa[\"url\"].apply(extract_domain)\n",
    "df_isa = df_isa[\n",
    "    ~df_isa[\"company_url\"].str.contains(\"|\".join(domains_from_file), case=False)\n",
    "]\n",
    "\n",
    "# get a relevant score between the company and the url\n",
    "df_isa[\"score\"] = df_isa.apply(\n",
    "    lambda row: name_match(row[\"company\"], row[\"url\"]), axis=1\n",
    ")\n",
    "df_isa = df_isa[\n",
    "    df_isa.score > 0.07\n",
    "]  # define a threshold, this is manually set by now by exploring the data and quantiles\n",
    "df_isa[\"encoded_url\"] = df_isa[\"url\"].apply(unquote)\n",
    "df_isa[\"year\"] = df_isa[\"encoded_url\"].apply(extract_year)\n",
    "df_isa[\"year\"] = df_isa[\"year\"].fillna(\"No year from report url\")\n",
    "df_isa[\"year\"] = df_isa.apply(\n",
    "    lambda row: extract_year(row[\"encoded_url\"], current_year), axis=1\n",
    ")\n",
    "df_isa.to_csv(\"searchresult/isa_report_url.csv\")"
   ]
  }
 ],
 "metadata": {
  "kernelspec": {
   "display_name": ".venv",
   "language": "python",
   "name": "python3"
  },
  "language_info": {
   "codemirror_mode": {
    "name": "ipython",
    "version": 3
   },
   "file_extension": ".py",
   "mimetype": "text/x-python",
   "name": "python",
   "nbconvert_exporter": "python",
   "pygments_lexer": "ipython3",
   "version": "3.9.6"
  }
 },
 "nbformat": 4,
 "nbformat_minor": 2
}
