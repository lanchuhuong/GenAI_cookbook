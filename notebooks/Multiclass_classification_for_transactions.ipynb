{
 "cells": [
  {
   "attachments": {},
   "cell_type": "markdown",
   "metadata": {},
   "source": [
    "# Multiclass Classification for Transactions\n",
    "\n",
    "For this notebook we will be looking to classify a transaction dataset of transactions into a number of categories that we have predefined.\n",
    "\n",
    "The approach we'll be taking in this notebook:\n",
    "- **Zero-shot Classification:** First we'll do zero shot classification to put transactions in one of five named buckets using only a prompt for guidance"
   ]
  },
  {
   "attachments": {},
   "cell_type": "markdown",
   "metadata": {},
   "source": [
    "## Setup"
   ]
  },
  {
   "cell_type": "code",
   "execution_count": 1,
   "metadata": {},
   "outputs": [],
   "source": [
    "import openai\n",
    "from openai import OpenAI\n",
    "import pandas as pd\n",
    "import json\n",
    "import os"
   ]
  },
  {
   "cell_type": "code",
   "execution_count": 14,
   "metadata": {},
   "outputs": [],
   "source": [
    "api_key = os.getenv(\"OPENAI_API_KEY\")\n",
    "openai.api_key = api_key\n",
    "client = OpenAI(api_key=api_key)\n",
    "COMPLETIONS_MODEL = \"gpt-4o\""
   ]
  },
  {
   "cell_type": "code",
   "execution_count": 75,
   "metadata": {},
   "outputs": [
    {
     "data": {
      "text/plain": [
       "65"
      ]
     },
     "execution_count": 75,
     "metadata": {},
     "output_type": "execute_result"
    }
   ],
   "source": [
    "transactions = pd.read_csv(\"../data/raw/transactie-historie_final.csv\", sep=\";\")\n",
    "len(transactions)"
   ]
  },
  {
   "cell_type": "code",
   "execution_count": 77,
   "metadata": {},
   "outputs": [],
   "source": [
    "column_names = [\n",
    "    \"date\",\n",
    "    \"account\",\n",
    "    \"supplier account\",\n",
    "    \"supplier name\",\n",
    "    \"Unnamed: 4\",\n",
    "    \"Unnamed: 5\",\n",
    "    \"Unnamed: 6\",\n",
    "    \"currency\",\n",
    "    \"code\",\n",
    "    \"currency 1\",\n",
    "    \"transaction amount\",\n",
    "    \"date1\",\n",
    "    \"date2\",\n",
    "    \"code1\",\n",
    "    \"code2\",\n",
    "    \"code3\",\n",
    "    \"Unnamed: 16\",\n",
    "    \"description\",\n",
    "    \"number\",\n",
    "]\n",
    "\n",
    "# Assign the new column names to the DataFrame\n",
    "transactions.columns = column_names\n",
    "transactions = transactions.drop(\n",
    "    columns=[\n",
    "        \"Unnamed: 4\",\n",
    "        \"Unnamed: 5\",\n",
    "        \"Unnamed: 6\",\n",
    "        \"code\",\n",
    "        \"currency 1\",\n",
    "        \"date1\",\n",
    "        \"date2\",\n",
    "        \"code1\",\n",
    "        \"code2\",\n",
    "        \"code3\",\n",
    "        \"Unnamed: 16\",\n",
    "        \"number\",\n",
    "    ]\n",
    ")"
   ]
  },
  {
   "cell_type": "code",
   "execution_count": null,
   "metadata": {},
   "outputs": [],
   "source": [
    "transactions[\"full_description\"] = (\n",
    "    transactions[\"supplier name\"].fillna(\"Unknown Supplier\").astype(str)\n",
    "    + \" \"\n",
    "    + transactions[\"description\"].fillna(\"Description\")\n",
    ")"
   ]
  },
  {
   "cell_type": "code",
   "execution_count": 83,
   "metadata": {},
   "outputs": [],
   "source": [
    "def request_completion(prompt):\n",
    "    messages = [\n",
    "        {\"role\": \"system\", \"content\": \"You are a helpful assistant.\"},\n",
    "        {\"role\": \"user\", \"content\": prompt},\n",
    "    ]\n",
    "\n",
    "    completion_response = openai.chat.completions.create(\n",
    "        messages=messages,\n",
    "        model=COMPLETIONS_MODEL,\n",
    "        temperature=0,\n",
    "        max_tokens=5,\n",
    "        top_p=1,\n",
    "        frequency_penalty=0,\n",
    "        presence_penalty=0,\n",
    "    )\n",
    "\n",
    "    return completion_response.choices[0].message.content\n",
    "\n",
    "\n",
    "def classify_transaction(transaction, prompt):\n",
    "    prompt = prompt.replace(\"DESCRIPTION_TEXT\", transaction[\"full_description\"])\n",
    "    prompt = prompt.replace(\"TRANSACTION_VALUE\", str(transaction[\"transaction amount\"]))\n",
    "\n",
    "    classification = request_completion(prompt)\n",
    "\n",
    "    return classification\n",
    "\n",
    "\n",
    "# This function takes your training and validation outputs from the prepare_data function of the Finetuning API, and\n",
    "# confirms that each have the same number of classes.\n",
    "# If they do not have the same number of classes the fine-tune will fail and return an error\n",
    "\n",
    "\n",
    "def check_finetune_classes(train_file, valid_file):\n",
    "    train_classes = set()\n",
    "    valid_classes = set()\n",
    "    with open(train_file, \"r\") as json_file:\n",
    "        json_list = list(json_file)\n",
    "        print(len(json_list))\n",
    "\n",
    "    for json_str in json_list:\n",
    "        result = json.loads(json_str)\n",
    "        train_classes.add(result[\"completion\"])\n",
    "        # print(f\"result: {result['completion']}\")\n",
    "        # print(isinstance(result, dict))\n",
    "\n",
    "    with open(valid_file, \"r\") as json_file:\n",
    "        json_list = list(json_file)\n",
    "        print(len(json_list))\n",
    "\n",
    "    for json_str in json_list:\n",
    "        result = json.loads(json_str)\n",
    "        valid_classes.add(result[\"completion\"])\n",
    "        # print(f\"result: {result['completion']}\")\n",
    "        # print(isinstance(result, dict))\n",
    "\n",
    "    if len(train_classes) == len(valid_classes):\n",
    "        print(\"All good\")\n",
    "\n",
    "    else:\n",
    "        print(\"Classes do not match, please prepare data again\")\n"
   ]
  },
  {
   "attachments": {},
   "cell_type": "markdown",
   "metadata": {},
   "source": [
    "## Zero-shot Classification\n",
    "\n",
    "We'll first assess the performance of the base models at classifying these transactions using a simple prompt. We'll provide the model with 5 categories and a catch-all of \"Could not classify\" for ones that it cannot place."
   ]
  },
  {
   "cell_type": "code",
   "execution_count": 84,
   "metadata": {},
   "outputs": [],
   "source": [
    "zero_shot_prompt = \"\"\"You are a data expert on personal expenses\n",
    "You are analysing all transactions for a monthly expense report. Each transaction must be classified into one of the 5 following categories: Utility bills, Health and Beauty, Shopping, Food, Housing.\n",
    "Your answer must be short and concise and CONTAIN ONLY the CATEGORY, NOTHING ELSE.\n",
    "\n",
    "Transaction information:\n",
    "\n",
    "Supplier: SUPPLIER_NAME\n",
    "Description: DESCRIPTION_TEXT\n",
    "Value: TRANSACTION_VALUE\n",
    "\n",
    "\n",
    "\n",
    "The category is: \"\"\"\n"
   ]
  },
  {
   "cell_type": "code",
   "execution_count": 85,
   "metadata": {},
   "outputs": [
    {
     "data": {
      "text/plain": [
       "'Housing'"
      ]
     },
     "execution_count": 85,
     "metadata": {},
     "output_type": "execute_result"
    }
   ],
   "source": [
    "# Get a test transaction\n",
    "transaction = transactions.iloc[0]\n",
    "\n",
    "# Interpolate the values into the prompt\n",
    "# prompt = zero_shot_prompt.replace(\"SUPPLIER_NAME\", transaction[\"supplier name\"])\n",
    "prompt = zero_shot_prompt.replace(\"DESCRIPTION_TEXT\", transaction[\"full_description\"])\n",
    "prompt = prompt.replace(\"TRANSACTION_VALUE\", str(transaction[\"transaction amount\"]))\n",
    "\n",
    "# Use our completion function to return a prediction\n",
    "completion_response = request_completion(prompt)\n",
    "completion_response\n"
   ]
  },
  {
   "attachments": {},
   "cell_type": "markdown",
   "metadata": {},
   "source": [
    "Our first attempt is correct, M & J Ballantyne Ltd are a house builder and the work they performed is indeed Building Improvement.\n",
    "\n",
    "Lets expand the sample size to 25 and see how it performs, again with just a simple prompt to guide it"
   ]
  },
  {
   "cell_type": "code",
   "execution_count": 86,
   "metadata": {},
   "outputs": [],
   "source": [
    "transactions[\"Classification\"] = transactions.apply(\n",
    "    lambda x: classify_transaction(x, zero_shot_prompt), axis=1\n",
    ")\n"
   ]
  },
  {
   "cell_type": "code",
   "execution_count": 87,
   "metadata": {},
   "outputs": [
    {
     "data": {
      "text/plain": [
       "Classification\n",
       "Food                 34\n",
       "Shopping             12\n",
       "Health and Beauty     7\n",
       "Housing               6\n",
       "Utility bills         6\n",
       "Name: count, dtype: int64"
      ]
     },
     "execution_count": 87,
     "metadata": {},
     "output_type": "execute_result"
    }
   ],
   "source": [
    "transactions[\"Classification\"].value_counts()\n"
   ]
  },
  {
   "cell_type": "code",
   "execution_count": null,
   "metadata": {},
   "outputs": [],
   "source": [
    "df = transactions\n",
    "df[\"combined\"] = (\n",
    "    \"; Description: \"\n",
    "    + df[\"full_description\"].str.strip()\n",
    "    + \"; Value: \"\n",
    "    + str(df[\"transaction amount\"]).strip()\n",
    ")"
   ]
  },
  {
   "cell_type": "code",
   "execution_count": 95,
   "metadata": {},
   "outputs": [],
   "source": [
    "def get_embedding(text: str, model=\"text-embedding-3-small\") -> list[float]:\n",
    "    return client.embeddings.create(input=[text], model=model).data[0].embedding\n",
    "\n",
    "\n",
    "df[\"embedding\"] = df.combined.apply(lambda x: get_embedding(x))\n"
   ]
  },
  {
   "cell_type": "code",
   "execution_count": 97,
   "metadata": {},
   "outputs": [],
   "source": [
    "from datetime import datetime\n",
    "\n",
    "now = datetime.now()\n",
    "df.to_csv(f\"../data/raw/transaction_labelled_{now}.csv\")\n"
   ]
  }
 ],
 "metadata": {
  "kernelspec": {
   "display_name": "Python 3",
   "language": "python",
   "name": "python3"
  },
  "language_info": {
   "codemirror_mode": {
    "name": "ipython",
    "version": 3
   },
   "file_extension": ".py",
   "mimetype": "text/x-python",
   "name": "python",
   "nbconvert_exporter": "python",
   "pygments_lexer": "ipython3",
   "version": "3.11.0"
  }
 },
 "nbformat": 4,
 "nbformat_minor": 4
}
